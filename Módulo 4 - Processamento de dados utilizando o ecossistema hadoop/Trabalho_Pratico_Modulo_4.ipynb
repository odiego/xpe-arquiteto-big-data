{
  "cells": [
    {
      "cell_type": "markdown",
      "source": [
        "Bootcamp: Arquiteto(a) de Big Data\n",
        "Trabalho Prático\n",
        "Módulo 4 Processamento de dados utilizando o ecossistema Hadoop\n",
        "\n",
        "Baixe o dataset airports.dat do seguinte link: https://openflights.org/data.html\n",
        "\n",
        "github.com/odiego\n",
        "\n",
        "08/10/2022"
      ],
      "metadata": {
        "id": "wUXHntVlQFNH"
      }
    },
    {
      "cell_type": "code",
      "source": [
        "pip install pyspark"
      ],
      "metadata": {
        "colab": {
          "base_uri": "https://localhost:8080/"
        },
        "id": "1VMlMpA0hTcV",
        "outputId": "06e797ae-fa84-424e-acab-c4868a32732b"
      },
      "outputs": [
        {
          "output_type": "stream",
          "name": "stdout",
          "text": [
            "Looking in indexes: https://pypi.org/simple, https://us-python.pkg.dev/colab-wheels/public/simple/\n",
            "Collecting pyspark\n",
            "  Downloading pyspark-3.3.0.tar.gz (281.3 MB)\n",
            "\u001b[K     |████████████████████████████████| 281.3 MB 48 kB/s \n",
            "\u001b[?25hCollecting py4j==0.10.9.5\n",
            "  Downloading py4j-0.10.9.5-py2.py3-none-any.whl (199 kB)\n",
            "\u001b[K     |████████████████████████████████| 199 kB 12.6 MB/s \n",
            "\u001b[?25hBuilding wheels for collected packages: pyspark\n",
            "  Building wheel for pyspark (setup.py) ... \u001b[?25l\u001b[?25hdone\n",
            "  Created wheel for pyspark: filename=pyspark-3.3.0-py2.py3-none-any.whl size=281764026 sha256=8fb5b988235cadb1f10552db1f5493f5bb21a9d9456cca94fa0cb33cdc02205e\n",
            "  Stored in directory: /root/.cache/pip/wheels/7a/8e/1b/f73a52650d2e5f337708d9f6a1750d451a7349a867f928b885\n",
            "Successfully built pyspark\n",
            "Installing collected packages: py4j, pyspark\n",
            "Successfully installed py4j-0.10.9.5 pyspark-3.3.0\n"
          ]
        }
      ],
      "execution_count": 1
    },
    {
      "cell_type": "markdown",
      "source": [
        "1) Iniciar a seção SPARK"
      ],
      "metadata": {
        "id": "ETZATAr7hTcY"
      }
    },
    {
      "cell_type": "code",
      "source": [
        "from pyspark.sql import SparkSession #importa a biblioteca que cria a seção do spark"
      ],
      "metadata": {
        "id": "aBUqBPMehTcZ"
      },
      "outputs": [],
      "execution_count": 2
    },
    {
      "cell_type": "code",
      "source": [
        "#inicia a seção para a utilização do spark\n",
        "spark = SparkSession.builder.appName(\"desafio_IGTI\").getOrCreate() #cria a seção caso não exista ou obtém a já criada"
      ],
      "metadata": {
        "id": "MpxkwQCchTcZ"
      },
      "outputs": [],
      "execution_count": 3
    },
    {
      "cell_type": "code",
      "source": [
        "diretorio_dataset='/content/airports.csv'#diretório que contém o arquivo a ser utilizado"
      ],
      "metadata": {
        "id": "wlwYLq2ihTca"
      },
      "outputs": [],
      "execution_count": 4
    },
    {
      "cell_type": "code",
      "source": [
        "dataset_desafio = spark.read.format(\"csv\").options(header=\"false\", sep =',', inferschema=\"true\").load(diretorio_dataset)  #realiza a leitura do dataset"
      ],
      "metadata": {
        "id": "JUgyT7hqhTcb"
      },
      "outputs": [],
      "execution_count": 5
    },
    {
      "cell_type": "code",
      "source": [
        "dataset_desafio.printSchema() #mostra o esquema inferido pelas variáveis"
      ],
      "metadata": {
        "colab": {
          "base_uri": "https://localhost:8080/"
        },
        "id": "97CeZA4vhTcb",
        "outputId": "bea34bed-0c87-40dd-e968-39445c431684"
      },
      "outputs": [
        {
          "output_type": "stream",
          "name": "stdout",
          "text": [
            "root\n",
            " |-- _c0: integer (nullable = true)\n",
            " |-- _c1: string (nullable = true)\n",
            " |-- _c2: string (nullable = true)\n",
            " |-- _c3: string (nullable = true)\n",
            " |-- _c4: string (nullable = true)\n",
            " |-- _c5: string (nullable = true)\n",
            " |-- _c6: double (nullable = true)\n",
            " |-- _c7: double (nullable = true)\n",
            " |-- _c8: integer (nullable = true)\n",
            " |-- _c9: string (nullable = true)\n",
            " |-- _c10: string (nullable = true)\n",
            " |-- _c11: string (nullable = true)\n",
            " |-- _c12: string (nullable = true)\n",
            " |-- _c13: string (nullable = true)\n",
            "\n"
          ]
        }
      ],
      "execution_count": 6
    },
    {
      "cell_type": "markdown",
      "source": [
        "Respectivamente, quantas variáveis do tipo string e inteira existem no dataset?"
      ],
      "metadata": {
        "id": "MFBxJwQWhTcc"
      }
    },
    {
      "cell_type": "code",
      "source": [
        "#número de instancias no dataset\n",
        "dataset_desafio.count()"
      ],
      "metadata": {
        "colab": {
          "base_uri": "https://localhost:8080/"
        },
        "id": "IO4EvCobhTcc",
        "outputId": "3dba7abe-2431-42da-e99a-d8a3bb6402ed"
      },
      "outputs": [
        {
          "output_type": "execute_result",
          "data": {
            "text/plain": [
              "7698"
            ]
          },
          "metadata": {},
          "execution_count": 7
        }
      ],
      "execution_count": 7
    },
    {
      "cell_type": "markdown",
      "source": [
        "Quantas instâncias e atributos, respectivamente, existem no dataset?"
      ],
      "metadata": {
        "id": "VOvRIFU0hTcd"
      }
    },
    {
      "cell_type": "code",
      "source": [
        "dataset_desafio.show() #mostra as linhas iniciais do dataset"
      ],
      "metadata": {
        "colab": {
          "base_uri": "https://localhost:8080/"
        },
        "id": "dl3ex5SlhTcd",
        "outputId": "7b604e32-4714-461b-9513-2a2261028366"
      },
      "outputs": [
        {
          "output_type": "stream",
          "name": "stdout",
          "text": [
            "+---+--------------------+--------------+----------------+---+----+------------------+-------------------+----+---+----+--------------------+-------+-----------+\n",
            "|_c0|                 _c1|           _c2|             _c3|_c4| _c5|               _c6|                _c7| _c8|_c9|_c10|                _c11|   _c12|       _c13|\n",
            "+---+--------------------+--------------+----------------+---+----+------------------+-------------------+----+---+----+--------------------+-------+-----------+\n",
            "|  1|      Goroka Airport|        Goroka|Papua New Guinea|GKA|AYGA|-6.081689834590001|      145.391998291|5282| 10|   U|Pacific/Port_Moresby|airport|OurAirports|\n",
            "|  2|      Madang Airport|        Madang|Papua New Guinea|MAG|AYMD|    -5.20707988739|      145.789001465|  20| 10|   U|Pacific/Port_Moresby|airport|OurAirports|\n",
            "|  3|Mount Hagen Kagam...|   Mount Hagen|Papua New Guinea|HGU|AYMH|-5.826789855957031| 144.29600524902344|5388| 10|   U|Pacific/Port_Moresby|airport|OurAirports|\n",
            "|  4|      Nadzab Airport|        Nadzab|Papua New Guinea|LAE|AYNZ|         -6.569803|         146.725977| 239| 10|   U|Pacific/Port_Moresby|airport|OurAirports|\n",
            "|  5|Port Moresby Jack...|  Port Moresby|Papua New Guinea|POM|AYPY|-9.443380355834961| 147.22000122070312| 146| 10|   U|Pacific/Port_Moresby|airport|OurAirports|\n",
            "|  6|Wewak Internation...|         Wewak|Papua New Guinea|WWK|AYWK|    -3.58383011818|      143.669006348|  19| 10|   U|Pacific/Port_Moresby|airport|OurAirports|\n",
            "|  7|  Narsarsuaq Airport|  Narssarssuaq|       Greenland|UAK|BGBW|     61.1604995728|     -45.4259986877| 112| -3|   E|     America/Godthab|airport|OurAirports|\n",
            "|  8|Godthaab / Nuuk A...|      Godthaab|       Greenland|GOH|BGGH|       64.19090271|     -51.6781005859| 283| -3|   E|     America/Godthab|airport|OurAirports|\n",
            "|  9|Kangerlussuaq Air...|   Sondrestrom|       Greenland|SFJ|BGSF|     67.0122218992|     -50.7116031647| 165| -3|   E|     America/Godthab|airport|OurAirports|\n",
            "| 10|      Thule Air Base|         Thule|       Greenland|THU|BGTL|     76.5311965942|     -68.7032012939| 251| -4|   E|       America/Thule|airport|OurAirports|\n",
            "| 11|    Akureyri Airport|      Akureyri|         Iceland|AEY|BIAR| 65.66000366210938| -18.07270050048828|   6|  0|   N|  Atlantic/Reykjavik|airport|OurAirports|\n",
            "| 12| Egilsstaðir Airport|   Egilsstadir|         Iceland|EGS|BIEG|  65.2833023071289|-14.401399612426758|  76|  0|   N|  Atlantic/Reykjavik|airport|OurAirports|\n",
            "| 13|Hornafjörður Airport|          Hofn|         Iceland|HFN|BIHN|         64.295601|           -15.2272|  24|  0|   N|  Atlantic/Reykjavik|airport|OurAirports|\n",
            "| 14|     Húsavík Airport|       Husavik|         Iceland|HZK|BIHU|         65.952301|         -17.426001|  48|  0|   N|  Atlantic/Reykjavik|airport|OurAirports|\n",
            "| 15|  Ísafjörður Airport|    Isafjordur|         Iceland|IFJ|BIIS| 66.05809783935547|-23.135299682617188|   8|  0|   N|  Atlantic/Reykjavik|airport|OurAirports|\n",
            "| 16|Keflavik Internat...|      Keflavik|         Iceland|KEF|BIKF|   63.985000610352|   -22.605600357056| 171|  0|   N|  Atlantic/Reykjavik|airport|OurAirports|\n",
            "| 17|Patreksfjörður Ai...|Patreksfjordur|         Iceland|PFJ|BIPA|         65.555801|            -23.965|  11|  0|   N|  Atlantic/Reykjavik|airport|OurAirports|\n",
            "| 18|   Reykjavik Airport|     Reykjavik|         Iceland|RKV|BIRK|     64.1299972534|     -21.9405994415|  48|  0|   N|  Atlantic/Reykjavik|airport|OurAirports|\n",
            "| 19|Siglufjörður Airport|  Siglufjordur|         Iceland|SIJ|BISI|         66.133301|           -18.9167|  10|  0|   N|  Atlantic/Reykjavik|airport|OurAirports|\n",
            "| 20|Vestmannaeyjar Ai...|Vestmannaeyjar|         Iceland|VEY|BIVM| 63.42430114746094|-20.278900146484375| 326|  0|   N|  Atlantic/Reykjavik|airport|OurAirports|\n",
            "+---+--------------------+--------------+----------------+---+----+------------------+-------------------+----+---+----+--------------------+-------+-----------+\n",
            "only showing top 20 rows\n",
            "\n"
          ]
        }
      ],
      "execution_count": 8
    },
    {
      "cell_type": "markdown",
      "source": [
        "Renomeando as colunas..."
      ],
      "metadata": {
        "id": "0dSPx0ftLXkq"
      }
    },
    {
      "cell_type": "code",
      "source": [
        "df2 = dataset_desafio.withColumnRenamed(\"_c0\",\"id\") \\\n",
        "  .withColumnRenamed(\"_c1\",\"name\") \\\n",
        "  .withColumnRenamed(\"_c2\",\"city\") \\\n",
        "  .withColumnRenamed(\"_c3\",\"country\") \\\n",
        "  .withColumnRenamed(\"_c4\",\"iata\") \\\n",
        "  .withColumnRenamed(\"_c5\",\"icao\") \\\n",
        "           .withColumnRenamed(\"_c6\",\"lat\") \\\n",
        "           .withColumnRenamed(\"_c7\",\"long\") \\\n",
        "           .withColumnRenamed(\"_c8\",\"altitude\") \\\n",
        "           .withColumnRenamed(\"_c9\",\"timezone\") \\\n",
        "           .withColumnRenamed(\"_c10\",\"dst\") \\\n",
        "           .withColumnRenamed(\"_c11\",\"timezone\") \\\n",
        "           .withColumnRenamed(\"_c12\",\"type\") \\\n",
        "           .withColumnRenamed(\"_c13\",\"source\")\n",
        "df2.printSchema()"
      ],
      "metadata": {
        "colab": {
          "base_uri": "https://localhost:8080/"
        },
        "id": "nSMs2AodLbCR",
        "outputId": "f664c8bf-8ba4-44f3-b2c9-19f81dedb1fd"
      },
      "execution_count": 14,
      "outputs": [
        {
          "output_type": "stream",
          "name": "stdout",
          "text": [
            "root\n",
            " |-- id: integer (nullable = true)\n",
            " |-- name: string (nullable = true)\n",
            " |-- city: string (nullable = true)\n",
            " |-- country: string (nullable = true)\n",
            " |-- iata: string (nullable = true)\n",
            " |-- icao: string (nullable = true)\n",
            " |-- lat: double (nullable = true)\n",
            " |-- long: double (nullable = true)\n",
            " |-- altitude: integer (nullable = true)\n",
            " |-- timezone: string (nullable = true)\n",
            " |-- dst: string (nullable = true)\n",
            " |-- timezone: string (nullable = true)\n",
            " |-- type: string (nullable = true)\n",
            " |-- source: string (nullable = true)\n",
            "\n"
          ]
        }
      ]
    },
    {
      "cell_type": "code",
      "source": [
        "df2.show() # Exibindo o dataset final que será trabalhado"
      ],
      "metadata": {
        "colab": {
          "base_uri": "https://localhost:8080/"
        },
        "id": "BgVUOJBbNtcY",
        "outputId": "ffae6d63-90d0-46ab-9147-b5e032030987"
      },
      "execution_count": 39,
      "outputs": [
        {
          "output_type": "stream",
          "name": "stdout",
          "text": [
            "+---+--------------------+--------------+----------------+----+----+------------------+-------------------+--------+--------+---+--------------------+-------+-----------+\n",
            "| id|                name|          city|         country|iata|icao|               lat|               long|altitude|timezone|dst|            timezone|   type|     source|\n",
            "+---+--------------------+--------------+----------------+----+----+------------------+-------------------+--------+--------+---+--------------------+-------+-----------+\n",
            "|  1|      Goroka Airport|        Goroka|Papua New Guinea| GKA|AYGA|-6.081689834590001|      145.391998291|    5282|      10|  U|Pacific/Port_Moresby|airport|OurAirports|\n",
            "|  2|      Madang Airport|        Madang|Papua New Guinea| MAG|AYMD|    -5.20707988739|      145.789001465|      20|      10|  U|Pacific/Port_Moresby|airport|OurAirports|\n",
            "|  3|Mount Hagen Kagam...|   Mount Hagen|Papua New Guinea| HGU|AYMH|-5.826789855957031| 144.29600524902344|    5388|      10|  U|Pacific/Port_Moresby|airport|OurAirports|\n",
            "|  4|      Nadzab Airport|        Nadzab|Papua New Guinea| LAE|AYNZ|         -6.569803|         146.725977|     239|      10|  U|Pacific/Port_Moresby|airport|OurAirports|\n",
            "|  5|Port Moresby Jack...|  Port Moresby|Papua New Guinea| POM|AYPY|-9.443380355834961| 147.22000122070312|     146|      10|  U|Pacific/Port_Moresby|airport|OurAirports|\n",
            "|  6|Wewak Internation...|         Wewak|Papua New Guinea| WWK|AYWK|    -3.58383011818|      143.669006348|      19|      10|  U|Pacific/Port_Moresby|airport|OurAirports|\n",
            "|  7|  Narsarsuaq Airport|  Narssarssuaq|       Greenland| UAK|BGBW|     61.1604995728|     -45.4259986877|     112|      -3|  E|     America/Godthab|airport|OurAirports|\n",
            "|  8|Godthaab / Nuuk A...|      Godthaab|       Greenland| GOH|BGGH|       64.19090271|     -51.6781005859|     283|      -3|  E|     America/Godthab|airport|OurAirports|\n",
            "|  9|Kangerlussuaq Air...|   Sondrestrom|       Greenland| SFJ|BGSF|     67.0122218992|     -50.7116031647|     165|      -3|  E|     America/Godthab|airport|OurAirports|\n",
            "| 10|      Thule Air Base|         Thule|       Greenland| THU|BGTL|     76.5311965942|     -68.7032012939|     251|      -4|  E|       America/Thule|airport|OurAirports|\n",
            "| 11|    Akureyri Airport|      Akureyri|         Iceland| AEY|BIAR| 65.66000366210938| -18.07270050048828|       6|       0|  N|  Atlantic/Reykjavik|airport|OurAirports|\n",
            "| 12| Egilsstaðir Airport|   Egilsstadir|         Iceland| EGS|BIEG|  65.2833023071289|-14.401399612426758|      76|       0|  N|  Atlantic/Reykjavik|airport|OurAirports|\n",
            "| 13|Hornafjörður Airport|          Hofn|         Iceland| HFN|BIHN|         64.295601|           -15.2272|      24|       0|  N|  Atlantic/Reykjavik|airport|OurAirports|\n",
            "| 14|     Húsavík Airport|       Husavik|         Iceland| HZK|BIHU|         65.952301|         -17.426001|      48|       0|  N|  Atlantic/Reykjavik|airport|OurAirports|\n",
            "| 15|  Ísafjörður Airport|    Isafjordur|         Iceland| IFJ|BIIS| 66.05809783935547|-23.135299682617188|       8|       0|  N|  Atlantic/Reykjavik|airport|OurAirports|\n",
            "| 16|Keflavik Internat...|      Keflavik|         Iceland| KEF|BIKF|   63.985000610352|   -22.605600357056|     171|       0|  N|  Atlantic/Reykjavik|airport|OurAirports|\n",
            "| 17|Patreksfjörður Ai...|Patreksfjordur|         Iceland| PFJ|BIPA|         65.555801|            -23.965|      11|       0|  N|  Atlantic/Reykjavik|airport|OurAirports|\n",
            "| 18|   Reykjavik Airport|     Reykjavik|         Iceland| RKV|BIRK|     64.1299972534|     -21.9405994415|      48|       0|  N|  Atlantic/Reykjavik|airport|OurAirports|\n",
            "| 19|Siglufjörður Airport|  Siglufjordur|         Iceland| SIJ|BISI|         66.133301|           -18.9167|      10|       0|  N|  Atlantic/Reykjavik|airport|OurAirports|\n",
            "| 20|Vestmannaeyjar Ai...|Vestmannaeyjar|         Iceland| VEY|BIVM| 63.42430114746094|-20.278900146484375|     326|       0|  N|  Atlantic/Reykjavik|airport|OurAirports|\n",
            "+---+--------------------+--------------+----------------+----+----+------------------+-------------------+--------+--------+---+--------------------+-------+-----------+\n",
            "only showing top 20 rows\n",
            "\n"
          ]
        }
      ]
    },
    {
      "cell_type": "markdown",
      "source": [
        "Considerando o dataset airports.dat, quantos aeroportos o Brasil (está em inglês, Brazil) possui?\n",
        "\n",
        "Considerando o dataset airports.dat, qual país apresenta a maior quantidade de aeroportos?"
      ],
      "metadata": {
        "id": "1ZOWm4CoPL2Y"
      }
    },
    {
      "cell_type": "code",
      "source": [
        "df2.groupby('country').count().sort(\"count\",ascending=False).show()"
      ],
      "metadata": {
        "colab": {
          "base_uri": "https://localhost:8080/"
        },
        "id": "CzwGvVxqOhOF",
        "outputId": "f187597d-2146-4f01-d61b-d65d179ffb49"
      },
      "execution_count": 18,
      "outputs": [
        {
          "output_type": "stream",
          "name": "stdout",
          "text": [
            "+--------------+-----+\n",
            "|       country|count|\n",
            "+--------------+-----+\n",
            "| United States| 1512|\n",
            "|        Canada|  430|\n",
            "|     Australia|  334|\n",
            "|        Russia|  264|\n",
            "|        Brazil|  264|\n",
            "|       Germany|  249|\n",
            "|         China|  241|\n",
            "|        France|  217|\n",
            "|United Kingdom|  167|\n",
            "|         India|  148|\n",
            "|     Indonesia|  145|\n",
            "|         Japan|  123|\n",
            "|  South Africa|   99|\n",
            "|     Argentina|   96|\n",
            "|        Mexico|   84|\n",
            "|         Italy|   83|\n",
            "|          Iran|   82|\n",
            "|        Sweden|   77|\n",
            "|        Turkey|   76|\n",
            "|      Colombia|   75|\n",
            "+--------------+-----+\n",
            "only showing top 20 rows\n",
            "\n"
          ]
        }
      ]
    },
    {
      "cell_type": "markdown",
      "source": [
        "Considerando o dataset airports.dat, qual a diferença de altitude entre os aeroportos Jorge Newbery Airpark e Altamira Airport?"
      ],
      "metadata": {
        "id": "zmDflyJzVYO3"
      }
    },
    {
      "cell_type": "code",
      "source": [
        "df2.filter(df2.name == 'Altamira Airport').show()"
      ],
      "metadata": {
        "colab": {
          "base_uri": "https://localhost:8080/"
        },
        "id": "kREfWf9bVZ3S",
        "outputId": "62fb028c-5794-4804-dda7-3616e0dde371"
      },
      "execution_count": 63,
      "outputs": [
        {
          "output_type": "stream",
          "name": "stdout",
          "text": [
            "+----+----------------+--------+-------+----+----+----------------+----------------+--------+--------+---+-------------+-------+-----------+\n",
            "|  id|            name|    city|country|iata|icao|             lat|            long|altitude|timezone|dst|     timezone|   type|     source|\n",
            "+----+----------------+--------+-------+----+----+----------------+----------------+--------+--------+---+-------------+-------+-----------+\n",
            "|2566|Altamira Airport|Altamira| Brazil| ATM|SBHT|-3.2539100646973|-52.254001617432|     369|      -3|  S|America/Belem|airport|OurAirports|\n",
            "+----+----------------+--------+-------+----+----+----------------+----------------+--------+--------+---+-------------+-------+-----------+\n",
            "\n"
          ]
        }
      ]
    },
    {
      "cell_type": "code",
      "source": [
        "df2.filter(df2.name == 'Jorge Newbery Airpark').show()"
      ],
      "metadata": {
        "colab": {
          "base_uri": "https://localhost:8080/"
        },
        "id": "4M2jxMwTWIVT",
        "outputId": "dd7d4b0b-a985-4472-b833-2134093c7851"
      },
      "execution_count": 64,
      "outputs": [
        {
          "output_type": "stream",
          "name": "stdout",
          "text": [
            "+----+--------------------+------------+---------+----+----+--------+--------+--------+--------+---+--------------------+-------+-----------+\n",
            "|  id|                name|        city|  country|iata|icao|     lat|    long|altitude|timezone|dst|            timezone|   type|     source|\n",
            "+----+--------------------+------------+---------+----+----+--------+--------+--------+--------+---+--------------------+-------+-----------+\n",
            "|2442|Jorge Newbery Air...|Buenos Aires|Argentina| AEP|SABE|-34.5592|-58.4156|      18|      -3|  N|America/Buenos_Aires|airport|OurAirports|\n",
            "+----+--------------------+------------+---------+----+----+--------+--------+--------+--------+---+--------------------+-------+-----------+\n",
            "\n"
          ]
        }
      ]
    },
    {
      "cell_type": "markdown",
      "source": [
        "Considerando o dataset airports.dat, quantos aeroportos existem na cidade de São Paulo? (no dataset não há acentos)"
      ],
      "metadata": {
        "id": "lDT4TgvLPB0v"
      }
    },
    {
      "cell_type": "code",
      "source": [
        "df2.filter(df2.city == 'Sao Paulo').count()"
      ],
      "metadata": {
        "colab": {
          "base_uri": "https://localhost:8080/"
        },
        "id": "3hPelVjeOufG",
        "outputId": "dbcada80-be14-43e5-daa5-1841ad68052b"
      },
      "execution_count": 19,
      "outputs": [
        {
          "output_type": "execute_result",
          "data": {
            "text/plain": [
              "3"
            ]
          },
          "metadata": {},
          "execution_count": 19
        }
      ]
    },
    {
      "cell_type": "markdown",
      "source": [
        "Considerando o dataset airports.dat, qual cidade apresenta a maior quantidade de aeroportos?"
      ],
      "metadata": {
        "id": "CaxjErH2PTlm"
      }
    },
    {
      "cell_type": "code",
      "source": [
        "df2.groupby('city').count().sort(\"count\",ascending=False).show()"
      ],
      "metadata": {
        "colab": {
          "base_uri": "https://localhost:8080/"
        },
        "id": "19yzLcr7PUBq",
        "outputId": "d7406eaf-91b3-4c54-c2e0-624f86c21a1b"
      },
      "execution_count": 20,
      "outputs": [
        {
          "output_type": "stream",
          "name": "stdout",
          "text": [
            "+------------+-----+\n",
            "|        city|count|\n",
            "+------------+-----+\n",
            "|        null|   49|\n",
            "|      London|    9|\n",
            "|    Columbus|    8|\n",
            "|  Georgetown|    7|\n",
            "|    San Jose|    7|\n",
            "|      Moscow|    6|\n",
            "|  Greenville|    6|\n",
            "|    Santiago|    6|\n",
            "|    New York|    6|\n",
            "|  Alexandria|    6|\n",
            "|     Houston|    6|\n",
            "|Jacksonville|    6|\n",
            "| San Antonio|    5|\n",
            "|  Burlington|    5|\n",
            "|     Glasgow|    5|\n",
            "|      Athens|    5|\n",
            "|    Hamilton|    5|\n",
            "|    Victoria|    5|\n",
            "|   Vancouver|    5|\n",
            "|        Rome|    5|\n",
            "+------------+-----+\n",
            "only showing top 20 rows\n",
            "\n"
          ]
        }
      ]
    },
    {
      "cell_type": "markdown",
      "source": [
        "Considerando o dataset airports.dat, qual aeroporto apresenta a maior altitude?"
      ],
      "metadata": {
        "id": "qxDP2kiOPmJd"
      }
    },
    {
      "cell_type": "code",
      "source": [
        "df2.sort(df2.altitude.desc()).show(truncate=False)"
      ],
      "metadata": {
        "colab": {
          "base_uri": "https://localhost:8080/"
        },
        "id": "irymAwUvPoXN",
        "outputId": "b10b6270-04d1-4116-bfa2-694af9928494"
      },
      "execution_count": 45,
      "outputs": [
        {
          "output_type": "stream",
          "name": "stdout",
          "text": [
            "+-----+--------------------------------------+-----------+---------+----+----+-------------------+------------------+--------+--------+---+--------------+-------+-----------+\n",
            "|id   |name                                  |city       |country  |iata|icao|lat                |long              |altitude|timezone|dst|timezone      |type   |source     |\n",
            "+-----+--------------------------------------+-----------+---------+----+----+-------------------+------------------+--------+--------+---+--------------+-------+-----------+\n",
            "|9310 |Daocheng Yading Airport               |Daocheng   |China    |DCY |ZUDC|29.323056          |100.053333        |14472   |8       |N  |Asia/Shanghai |airport|OurAirports|\n",
            "|6396 |Qamdo Bangda Airport                  |Bangda     |China    |BPX |ZUBD|30.553600311279297 |97.1082992553711  |14219   |8       |U  |Asia/Shanghai |airport|OurAirports|\n",
            "|8921 |Kangding Airport                      |Kangding   |China    |KGT |ZUKD|30.1575            |101.734722        |14042   |8       |N  |Asia/Shanghai |airport|OurAirports|\n",
            "|7932 |Ngari Gunsa Airport                   |Shiquanhe  |China    |NGQ |ZUAL|32.1               |80.0530555556     |14022   |8       |N  |Asia/Shanghai |airport|OurAirports|\n",
            "|2762 |El Alto International Airport         |La Paz     |Bolivia  |LPB |SLLP|-16.5132999420166  |-68.19229888916016|13355   |-4      |U  |America/La_Paz|airport|OurAirports|\n",
            "|2764 |Capitan Nicolas Rojas Airport         |Potosi     |Bolivia  |POI |SLPO|-19.5431003571     |-65.72370147710001|12913   |-4      |U  |America/La_Paz|airport|OurAirports|\n",
            "|7894 |Yushu Batang Airport                  |Yushu      |China    |YUS |ZYLS|32.836388888900004 |97.0363888889     |12816   |8       |U  |Asia/Shanghai |airport|OurAirports|\n",
            "|8969 |Copacabana Airport                    |Copacabana |Bolivia  |\\N  |SLCC|-16.191099166870117|-69.09559631347656|12591   |-4      |U  |America/La_Paz|airport|OurAirports|\n",
            "|2792 |Inca Manco Capac International Airport|Juliaca    |Peru     |JUL |SPJL|-15.467100143432617|-70.158203125     |12552   |-5      |U  |America/Lima  |airport|OurAirports|\n",
            "|13483|Golog Maqin Airport                   |Golog      |China    |GMQ |ZLGL|34.418066          |100.301144        |12426   |8       |N  |\\N            |airport|OurAirports|\n",
            "|7766 |Syangboche Airport                    |Syangboche |Nepal    |SYH |VNSB|27.8112            |86.7124           |12400   |5.75    |N  |Asia/Katmandu |airport|OurAirports|\n",
            "|2763 |Juan Mendoza Airport                  |Oruro      |Bolivia  |ORU |SLOR|-17.962600708      |-67.0762023926    |12152   |-4      |U  |America/La_Paz|airport|OurAirports|\n",
            "|4097 |Lhasa Gonggar Airport                 |Lhasa      |China    |LXA |ZULS|29.2978000641      |90.91190338130001 |11713   |8       |U  |Asia/Shanghai |airport|OurAirports|\n",
            "|10943|Hongyuan Airport                      |Ngawa      |China    |AHJ |ZUHY|32.53154           |102.35224         |11600   |8       |N  |\\N            |airport|OurAirports|\n",
            "|2464 |La Quiaca Airport                     |Laboulaye  |Argentina|\\N  |SAOL|-22.1506004333     |-65.57749938959999|11414   |-3      |N  |America/Jujuy |airport|OurAirports|\n",
            "|4301 |Jiuzhai Huanglong Airport             |Jiuzhaigou |China    |JZH |ZUJZ|32.8533333333      |103.682222222     |11327   |8       |U  |Asia/Shanghai |airport|OurAirports|\n",
            "|2787 |Andahuaylas Airport                   |Andahuaylas|Peru     |ANS |SPHY|-13.706399917602539|-73.35040283203125|11300   |-5      |U  |America/Lima  |airport|OurAirports|\n",
            "|7313 |Uyuni Airport                         |Uyuni      |Bolivia  |UYU |SLUY|-20.446300506599997|-66.8483963013    |11136   |-4      |U  |America/La_Paz|airport|OurAirports|\n",
            "|2791 |Francisco Carle Airport               |Jauja      |Peru     |JAU |SPJJ|-11.7831001282     |-75.47339630130001|11034   |-5      |U  |America/Lima  |airport|OurAirports|\n",
            "|4174 |Manang Airport                        |Manang     |Nepal    |NGX |VNMA|28.641399          |84.089203         |11001   |5.75    |N  |Asia/Katmandu |airport|OurAirports|\n",
            "+-----+--------------------------------------+-----------+---------+----+----+-------------------+------------------+--------+--------+---+--------------+-------+-----------+\n",
            "only showing top 20 rows\n",
            "\n"
          ]
        }
      ]
    },
    {
      "cell_type": "markdown",
      "source": [
        "Considerando o dataset airports.dat, qual a média da altitude dos aeroportos do Brasil?"
      ],
      "metadata": {
        "id": "MyV-BjlLPrvK"
      }
    },
    {
      "cell_type": "code",
      "source": [
        "df2.filter(df2.country == 'Brazil').agg({'altitude': 'mean'}).show()"
      ],
      "metadata": {
        "colab": {
          "base_uri": "https://localhost:8080/"
        },
        "id": "FHFesaSaUBPQ",
        "outputId": "9984306c-a31f-41e4-e5c5-80c600004e26"
      },
      "execution_count": 66,
      "outputs": [
        {
          "output_type": "stream",
          "name": "stdout",
          "text": [
            "+-----------------+\n",
            "|    avg(altitude)|\n",
            "+-----------------+\n",
            "|1126.219696969697|\n",
            "+-----------------+\n",
            "\n"
          ]
        }
      ]
    },
    {
      "cell_type": "markdown",
      "source": [
        "Considerando o dataset airports.dat, quantos DST (faixas de horário de verão) existem? (Para essa resposta desconsidere aqueles que não possuem dados, representados por \\N)"
      ],
      "metadata": {
        "id": "-FTCOvipT595"
      }
    },
    {
      "cell_type": "code",
      "source": [
        "#df2.select('dst').distinct().show() # Listagem de DST unicos (incluindo o \\N)\n",
        "df2.select('dst').filter(\"dst <> '\\\\N'\").distinct().count() # Contagem de unicos, excluindo o \\N"
      ],
      "metadata": {
        "colab": {
          "base_uri": "https://localhost:8080/"
        },
        "id": "O5V7OT3gQnOD",
        "outputId": "5371e68e-de14-48ef-e5b4-888a1ff32ccd"
      },
      "execution_count": 75,
      "outputs": [
        {
          "output_type": "execute_result",
          "data": {
            "text/plain": [
              "7"
            ]
          },
          "metadata": {},
          "execution_count": 75
        }
      ]
    },
    {
      "cell_type": "markdown",
      "source": [
        "Considerando o dataset airports.dat, quantos países possuem aeroportos?"
      ],
      "metadata": {
        "id": "WHfJSdDIUIwQ"
      }
    },
    {
      "cell_type": "code",
      "source": [
        "df2.select('country').distinct().count()"
      ],
      "metadata": {
        "colab": {
          "base_uri": "https://localhost:8080/"
        },
        "id": "nATVdICJUdns",
        "outputId": "c31343c1-c98b-4ce1-df68-3cb0ff333837"
      },
      "execution_count": 48,
      "outputs": [
        {
          "output_type": "execute_result",
          "data": {
            "text/plain": [
              "237"
            ]
          },
          "metadata": {},
          "execution_count": 48
        }
      ]
    },
    {
      "cell_type": "code",
      "source": [
        "df2.groupby('country').count().sort(\"count\",ascending=True).show()"
      ],
      "metadata": {
        "colab": {
          "base_uri": "https://localhost:8080/"
        },
        "id": "-cTTCWMOUMWz",
        "outputId": "146e7299-3536-4a68-9de4-38777028599d"
      },
      "execution_count": 47,
      "outputs": [
        {
          "output_type": "stream",
          "name": "stdout",
          "text": [
            "+--------------------+-----+\n",
            "|             country|count|\n",
            "+--------------------+-----+\n",
            "|              Tuvalu|    1|\n",
            "|      Midway Islands|    1|\n",
            "|          Martinique|    1|\n",
            "|British Indian Oc...|    1|\n",
            "|         Isle of Man|    1|\n",
            "|      Norfolk Island|    1|\n",
            "|            Barbados|    1|\n",
            "|             Grenada|    1|\n",
            "|    Christmas Island|    1|\n",
            "|          Montserrat|    1|\n",
            "|Cocos (Keeling) I...|    1|\n",
            "|           West Bank|    1|\n",
            "|               Nauru|    1|\n",
            "|            Anguilla|    1|\n",
            "|           Gibraltar|    1|\n",
            "|        Saint Helena|    1|\n",
            "|           Palestine|    1|\n",
            "|               Macau|    1|\n",
            "|               Aruba|    1|\n",
            "|              Jersey|    1|\n",
            "+--------------------+-----+\n",
            "only showing top 20 rows\n",
            "\n"
          ]
        }
      ]
    }
  ],
  "metadata": {
    "name": "desafio_CID",
    "notebookId": 3310322013978407,
    "colab": {
      "provenance": [],
      "collapsed_sections": []
    },
    "language_info": {
      "name": "python"
    },
    "kernelspec": {
      "name": "python3",
      "display_name": "Python 3"
    },
    "gpuClass": "standard"
  },
  "nbformat": 4,
  "nbformat_minor": 0
}
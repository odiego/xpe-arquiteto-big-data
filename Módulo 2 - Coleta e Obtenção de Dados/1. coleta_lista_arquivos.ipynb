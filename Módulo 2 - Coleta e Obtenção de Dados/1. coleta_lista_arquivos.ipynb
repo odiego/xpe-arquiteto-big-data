{
  "cells": [
    {
      "cell_type": "markdown",
      "metadata": {
        "id": "MzmnBWBscLQN"
      },
      "source": [
        "## Coleta de dados estruturados em lista de arquivos\n",
        "\n",
        "Nesse exercício prático, vamos coletar os dados através de vários arquivos separados por data. \n",
        "O dataset utilizado é um conjunto de dados ficticios que ilustra pesquisa com clientes em um ano.\n",
        "\n",
        "A prática consiste em coletar todos os dados em cada arquivo e adiciona-los em um dataframe do pandas e em seguida analisar e persistir os dados em arquivo de texto e em tabelas no banco de dados. \n"
      ]
    },
    {
      "cell_type": "code",
      "execution_count": null,
      "metadata": {
        "id": "EidqrJVGcLQS"
      },
      "outputs": [],
      "source": [
        "#Vamos importar as bibliotecas que vamos utilizar para essa prática\n",
        "import pandas as pd \n",
        "import os # bibliotecas para funções do sistema operacional"
      ]
    },
    {
      "cell_type": "markdown",
      "metadata": {
        "id": "qPQmDYTfcLQT"
      },
      "source": [
        "### Documentação das bibliotecas\n",
        "**Pandas** - https://pandas.pydata.org/pandas-docs/stable/index.html\n",
        "\n",
        "**os** - https://docs.python.org/3/library/os.html"
      ]
    },
    {
      "cell_type": "markdown",
      "metadata": {
        "id": "5ZprsGkNcLQT"
      },
      "source": [
        "Vamos atribuir a uma váriavel o caminho no qual está armazenados os arquivos com as vendas do veículo\n",
        "\n"
      ]
    },
    {
      "cell_type": "code",
      "execution_count": 5,
      "metadata": {
        "id": "Ud_v2plBcLQU"
      },
      "outputs": [],
      "source": [
        "DIRETORIO = \"/content/sample_data/diego\""
      ]
    },
    {
      "cell_type": "markdown",
      "metadata": {
        "id": "umLe9MVQcLQU"
      },
      "source": [
        "Agora vamos criar uma lista com todos os arquivos que estão armazenados no diretório.\n",
        "\n",
        "o metódo listdir retorna uma lista contendo os nomes das entradas no diretório fornecido por path.\n"
      ]
    },
    {
      "cell_type": "code",
      "execution_count": 6,
      "metadata": {
        "id": "lZudMcT0cLQV"
      },
      "outputs": [],
      "source": [
        "lista_df = [] # cria uma lista\n",
        "lista_path = os.listdir(DIRETORIO) "
      ]
    },
    {
      "cell_type": "code",
      "execution_count": 7,
      "metadata": {
        "colab": {
          "base_uri": "https://localhost:8080/"
        },
        "id": "TmwUQkMzcLQV",
        "outputId": "3cb65039-08f8-4949-8605-648617daeb43"
      },
      "outputs": [
        {
          "output_type": "execute_result",
          "data": {
            "text/plain": [
              "['2020-01-16.csv', '2020-12-19.csv', '2020-01-13.csv']"
            ]
          },
          "metadata": {},
          "execution_count": 7
        }
      ],
      "source": [
        "lista_path[:3] #lista quantidade de itens na lista"
      ]
    },
    {
      "cell_type": "markdown",
      "metadata": {
        "id": "YhH7fAW7cLQW"
      },
      "source": [
        "Ótmo! Agora temos todos os nomes dos aquivos que estão dentro do diretório. Agora vamos abrir cada arquivo e coletar os seus dados."
      ]
    },
    {
      "cell_type": "code",
      "execution_count": 10,
      "metadata": {
        "id": "LNfx17FdcLQW"
      },
      "outputs": [],
      "source": [
        "lista_df = [] # cria uma lista vazia\n",
        "for arquivo in lista_path:\n",
        "    local_arquivo = os.path.join(DIRETORIO, arquivo)\n",
        "    df = pd.read_csv(local_arquivo, sep = '|', encoding='latin-1')\n",
        "    lista_df.append(df)\n",
        "df_pesquisa = pd.concat(lista_df) # Atribui os dados coletados em um dataframe"
      ]
    },
    {
      "cell_type": "code",
      "execution_count": 17,
      "metadata": {
        "id": "GPoNWGnZcLQX",
        "colab": {
          "base_uri": "https://localhost:8080/",
          "height": 363
        },
        "outputId": "9973d0c8-4ead-48e7-b1fc-17afa7e8c5ea"
      },
      "outputs": [
        {
          "output_type": "execute_result",
          "data": {
            "text/plain": [
              "   cod_pessoa data_coleta     genero data_nascimento animal_estimacao  \\\n",
              "0    10142036  2020-01-16   Feminino      1965-04-19        tartaruga   \n",
              "1    10142053  2020-01-16   Feminino      1968-10-21            peixe   \n",
              "0    10141876  2020-12-19   Feminino      1972-12-20             gato   \n",
              "1    10141899  2020-12-19  Masculino      1969-09-18             gato   \n",
              "2    10143110  2020-12-19  Masculino      1951-07-25             gato   \n",
              "3    10143158  2020-12-19   Feminino      1988-10-18             gato   \n",
              "4    10143159  2020-12-19   Feminino      1956-07-16            peixe   \n",
              "0    10141518  2020-01-13  Masculino      1959-06-12        tartaruga   \n",
              "1    10142083  2020-01-13  Masculino      1959-02-22             gato   \n",
              "2    10142537  2020-01-13  Masculino      1994-08-20         cachorro   \n",
              "\n",
              "      clima bebida_favorita             hobbies  \n",
              "0      frio            Água      Escutar música  \n",
              "1    quente    refrigerante    Praticar esporte  \n",
              "0      frio           Vinho  Aprender algo novo  \n",
              "1  moderado             Chá      Pintar quadros  \n",
              "2  moderado    refrigerante    Praticar esporte  \n",
              "3    quente    refrigerante      Escutar música  \n",
              "4    quente            Café      Escutar música  \n",
              "0      frio            Água  Aprender algo novo  \n",
              "1  moderado            Água              Dormir  \n",
              "2    quente         Cerveja            Escrever  "
            ],
            "text/html": [
              "\n",
              "  <div id=\"df-0f02ab42-ad62-4082-ad83-8767ce601c79\">\n",
              "    <div class=\"colab-df-container\">\n",
              "      <div>\n",
              "<style scoped>\n",
              "    .dataframe tbody tr th:only-of-type {\n",
              "        vertical-align: middle;\n",
              "    }\n",
              "\n",
              "    .dataframe tbody tr th {\n",
              "        vertical-align: top;\n",
              "    }\n",
              "\n",
              "    .dataframe thead th {\n",
              "        text-align: right;\n",
              "    }\n",
              "</style>\n",
              "<table border=\"1\" class=\"dataframe\">\n",
              "  <thead>\n",
              "    <tr style=\"text-align: right;\">\n",
              "      <th></th>\n",
              "      <th>cod_pessoa</th>\n",
              "      <th>data_coleta</th>\n",
              "      <th>genero</th>\n",
              "      <th>data_nascimento</th>\n",
              "      <th>animal_estimacao</th>\n",
              "      <th>clima</th>\n",
              "      <th>bebida_favorita</th>\n",
              "      <th>hobbies</th>\n",
              "    </tr>\n",
              "  </thead>\n",
              "  <tbody>\n",
              "    <tr>\n",
              "      <th>0</th>\n",
              "      <td>10142036</td>\n",
              "      <td>2020-01-16</td>\n",
              "      <td>Feminino</td>\n",
              "      <td>1965-04-19</td>\n",
              "      <td>tartaruga</td>\n",
              "      <td>frio</td>\n",
              "      <td>Água</td>\n",
              "      <td>Escutar música</td>\n",
              "    </tr>\n",
              "    <tr>\n",
              "      <th>1</th>\n",
              "      <td>10142053</td>\n",
              "      <td>2020-01-16</td>\n",
              "      <td>Feminino</td>\n",
              "      <td>1968-10-21</td>\n",
              "      <td>peixe</td>\n",
              "      <td>quente</td>\n",
              "      <td>refrigerante</td>\n",
              "      <td>Praticar esporte</td>\n",
              "    </tr>\n",
              "    <tr>\n",
              "      <th>0</th>\n",
              "      <td>10141876</td>\n",
              "      <td>2020-12-19</td>\n",
              "      <td>Feminino</td>\n",
              "      <td>1972-12-20</td>\n",
              "      <td>gato</td>\n",
              "      <td>frio</td>\n",
              "      <td>Vinho</td>\n",
              "      <td>Aprender algo novo</td>\n",
              "    </tr>\n",
              "    <tr>\n",
              "      <th>1</th>\n",
              "      <td>10141899</td>\n",
              "      <td>2020-12-19</td>\n",
              "      <td>Masculino</td>\n",
              "      <td>1969-09-18</td>\n",
              "      <td>gato</td>\n",
              "      <td>moderado</td>\n",
              "      <td>Chá</td>\n",
              "      <td>Pintar quadros</td>\n",
              "    </tr>\n",
              "    <tr>\n",
              "      <th>2</th>\n",
              "      <td>10143110</td>\n",
              "      <td>2020-12-19</td>\n",
              "      <td>Masculino</td>\n",
              "      <td>1951-07-25</td>\n",
              "      <td>gato</td>\n",
              "      <td>moderado</td>\n",
              "      <td>refrigerante</td>\n",
              "      <td>Praticar esporte</td>\n",
              "    </tr>\n",
              "    <tr>\n",
              "      <th>3</th>\n",
              "      <td>10143158</td>\n",
              "      <td>2020-12-19</td>\n",
              "      <td>Feminino</td>\n",
              "      <td>1988-10-18</td>\n",
              "      <td>gato</td>\n",
              "      <td>quente</td>\n",
              "      <td>refrigerante</td>\n",
              "      <td>Escutar música</td>\n",
              "    </tr>\n",
              "    <tr>\n",
              "      <th>4</th>\n",
              "      <td>10143159</td>\n",
              "      <td>2020-12-19</td>\n",
              "      <td>Feminino</td>\n",
              "      <td>1956-07-16</td>\n",
              "      <td>peixe</td>\n",
              "      <td>quente</td>\n",
              "      <td>Café</td>\n",
              "      <td>Escutar música</td>\n",
              "    </tr>\n",
              "    <tr>\n",
              "      <th>0</th>\n",
              "      <td>10141518</td>\n",
              "      <td>2020-01-13</td>\n",
              "      <td>Masculino</td>\n",
              "      <td>1959-06-12</td>\n",
              "      <td>tartaruga</td>\n",
              "      <td>frio</td>\n",
              "      <td>Água</td>\n",
              "      <td>Aprender algo novo</td>\n",
              "    </tr>\n",
              "    <tr>\n",
              "      <th>1</th>\n",
              "      <td>10142083</td>\n",
              "      <td>2020-01-13</td>\n",
              "      <td>Masculino</td>\n",
              "      <td>1959-02-22</td>\n",
              "      <td>gato</td>\n",
              "      <td>moderado</td>\n",
              "      <td>Água</td>\n",
              "      <td>Dormir</td>\n",
              "    </tr>\n",
              "    <tr>\n",
              "      <th>2</th>\n",
              "      <td>10142537</td>\n",
              "      <td>2020-01-13</td>\n",
              "      <td>Masculino</td>\n",
              "      <td>1994-08-20</td>\n",
              "      <td>cachorro</td>\n",
              "      <td>quente</td>\n",
              "      <td>Cerveja</td>\n",
              "      <td>Escrever</td>\n",
              "    </tr>\n",
              "  </tbody>\n",
              "</table>\n",
              "</div>\n",
              "      <button class=\"colab-df-convert\" onclick=\"convertToInteractive('df-0f02ab42-ad62-4082-ad83-8767ce601c79')\"\n",
              "              title=\"Convert this dataframe to an interactive table.\"\n",
              "              style=\"display:none;\">\n",
              "        \n",
              "  <svg xmlns=\"http://www.w3.org/2000/svg\" height=\"24px\"viewBox=\"0 0 24 24\"\n",
              "       width=\"24px\">\n",
              "    <path d=\"M0 0h24v24H0V0z\" fill=\"none\"/>\n",
              "    <path d=\"M18.56 5.44l.94 2.06.94-2.06 2.06-.94-2.06-.94-.94-2.06-.94 2.06-2.06.94zm-11 1L8.5 8.5l.94-2.06 2.06-.94-2.06-.94L8.5 2.5l-.94 2.06-2.06.94zm10 10l.94 2.06.94-2.06 2.06-.94-2.06-.94-.94-2.06-.94 2.06-2.06.94z\"/><path d=\"M17.41 7.96l-1.37-1.37c-.4-.4-.92-.59-1.43-.59-.52 0-1.04.2-1.43.59L10.3 9.45l-7.72 7.72c-.78.78-.78 2.05 0 2.83L4 21.41c.39.39.9.59 1.41.59.51 0 1.02-.2 1.41-.59l7.78-7.78 2.81-2.81c.8-.78.8-2.07 0-2.86zM5.41 20L4 18.59l7.72-7.72 1.47 1.35L5.41 20z\"/>\n",
              "  </svg>\n",
              "      </button>\n",
              "      \n",
              "  <style>\n",
              "    .colab-df-container {\n",
              "      display:flex;\n",
              "      flex-wrap:wrap;\n",
              "      gap: 12px;\n",
              "    }\n",
              "\n",
              "    .colab-df-convert {\n",
              "      background-color: #E8F0FE;\n",
              "      border: none;\n",
              "      border-radius: 50%;\n",
              "      cursor: pointer;\n",
              "      display: none;\n",
              "      fill: #1967D2;\n",
              "      height: 32px;\n",
              "      padding: 0 0 0 0;\n",
              "      width: 32px;\n",
              "    }\n",
              "\n",
              "    .colab-df-convert:hover {\n",
              "      background-color: #E2EBFA;\n",
              "      box-shadow: 0px 1px 2px rgba(60, 64, 67, 0.3), 0px 1px 3px 1px rgba(60, 64, 67, 0.15);\n",
              "      fill: #174EA6;\n",
              "    }\n",
              "\n",
              "    [theme=dark] .colab-df-convert {\n",
              "      background-color: #3B4455;\n",
              "      fill: #D2E3FC;\n",
              "    }\n",
              "\n",
              "    [theme=dark] .colab-df-convert:hover {\n",
              "      background-color: #434B5C;\n",
              "      box-shadow: 0px 1px 3px 1px rgba(0, 0, 0, 0.15);\n",
              "      filter: drop-shadow(0px 1px 2px rgba(0, 0, 0, 0.3));\n",
              "      fill: #FFFFFF;\n",
              "    }\n",
              "  </style>\n",
              "\n",
              "      <script>\n",
              "        const buttonEl =\n",
              "          document.querySelector('#df-0f02ab42-ad62-4082-ad83-8767ce601c79 button.colab-df-convert');\n",
              "        buttonEl.style.display =\n",
              "          google.colab.kernel.accessAllowed ? 'block' : 'none';\n",
              "\n",
              "        async function convertToInteractive(key) {\n",
              "          const element = document.querySelector('#df-0f02ab42-ad62-4082-ad83-8767ce601c79');\n",
              "          const dataTable =\n",
              "            await google.colab.kernel.invokeFunction('convertToInteractive',\n",
              "                                                     [key], {});\n",
              "          if (!dataTable) return;\n",
              "\n",
              "          const docLinkHtml = 'Like what you see? Visit the ' +\n",
              "            '<a target=\"_blank\" href=https://colab.research.google.com/notebooks/data_table.ipynb>data table notebook</a>'\n",
              "            + ' to learn more about interactive tables.';\n",
              "          element.innerHTML = '';\n",
              "          dataTable['output_type'] = 'display_data';\n",
              "          await google.colab.output.renderOutput(dataTable, element);\n",
              "          const docLink = document.createElement('div');\n",
              "          docLink.innerHTML = docLinkHtml;\n",
              "          element.appendChild(docLink);\n",
              "        }\n",
              "      </script>\n",
              "    </div>\n",
              "  </div>\n",
              "  "
            ]
          },
          "metadata": {},
          "execution_count": 17
        }
      ],
      "source": [
        "df_pesquisa[:10]"
      ]
    },
    {
      "cell_type": "code",
      "source": [
        "df_pesquisa.describe()"
      ],
      "metadata": {
        "colab": {
          "base_uri": "https://localhost:8080/",
          "height": 300
        },
        "id": "V7F1jfZ7ee-L",
        "outputId": "53facc76-be9a-4942-bb80-822af3f57f82"
      },
      "execution_count": 16,
      "outputs": [
        {
          "output_type": "execute_result",
          "data": {
            "text/plain": [
              "         cod_pessoa\n",
              "count  2.127000e+03\n",
              "mean   1.014256e+07\n",
              "std    6.141563e+02\n",
              "min    1.014150e+07\n",
              "25%    1.014203e+07\n",
              "50%    1.014256e+07\n",
              "75%    1.014310e+07\n",
              "max    1.014363e+07"
            ],
            "text/html": [
              "\n",
              "  <div id=\"df-1d48ae5e-fbeb-40b9-be2d-41b8fa26884f\">\n",
              "    <div class=\"colab-df-container\">\n",
              "      <div>\n",
              "<style scoped>\n",
              "    .dataframe tbody tr th:only-of-type {\n",
              "        vertical-align: middle;\n",
              "    }\n",
              "\n",
              "    .dataframe tbody tr th {\n",
              "        vertical-align: top;\n",
              "    }\n",
              "\n",
              "    .dataframe thead th {\n",
              "        text-align: right;\n",
              "    }\n",
              "</style>\n",
              "<table border=\"1\" class=\"dataframe\">\n",
              "  <thead>\n",
              "    <tr style=\"text-align: right;\">\n",
              "      <th></th>\n",
              "      <th>cod_pessoa</th>\n",
              "    </tr>\n",
              "  </thead>\n",
              "  <tbody>\n",
              "    <tr>\n",
              "      <th>count</th>\n",
              "      <td>2.127000e+03</td>\n",
              "    </tr>\n",
              "    <tr>\n",
              "      <th>mean</th>\n",
              "      <td>1.014256e+07</td>\n",
              "    </tr>\n",
              "    <tr>\n",
              "      <th>std</th>\n",
              "      <td>6.141563e+02</td>\n",
              "    </tr>\n",
              "    <tr>\n",
              "      <th>min</th>\n",
              "      <td>1.014150e+07</td>\n",
              "    </tr>\n",
              "    <tr>\n",
              "      <th>25%</th>\n",
              "      <td>1.014203e+07</td>\n",
              "    </tr>\n",
              "    <tr>\n",
              "      <th>50%</th>\n",
              "      <td>1.014256e+07</td>\n",
              "    </tr>\n",
              "    <tr>\n",
              "      <th>75%</th>\n",
              "      <td>1.014310e+07</td>\n",
              "    </tr>\n",
              "    <tr>\n",
              "      <th>max</th>\n",
              "      <td>1.014363e+07</td>\n",
              "    </tr>\n",
              "  </tbody>\n",
              "</table>\n",
              "</div>\n",
              "      <button class=\"colab-df-convert\" onclick=\"convertToInteractive('df-1d48ae5e-fbeb-40b9-be2d-41b8fa26884f')\"\n",
              "              title=\"Convert this dataframe to an interactive table.\"\n",
              "              style=\"display:none;\">\n",
              "        \n",
              "  <svg xmlns=\"http://www.w3.org/2000/svg\" height=\"24px\"viewBox=\"0 0 24 24\"\n",
              "       width=\"24px\">\n",
              "    <path d=\"M0 0h24v24H0V0z\" fill=\"none\"/>\n",
              "    <path d=\"M18.56 5.44l.94 2.06.94-2.06 2.06-.94-2.06-.94-.94-2.06-.94 2.06-2.06.94zm-11 1L8.5 8.5l.94-2.06 2.06-.94-2.06-.94L8.5 2.5l-.94 2.06-2.06.94zm10 10l.94 2.06.94-2.06 2.06-.94-2.06-.94-.94-2.06-.94 2.06-2.06.94z\"/><path d=\"M17.41 7.96l-1.37-1.37c-.4-.4-.92-.59-1.43-.59-.52 0-1.04.2-1.43.59L10.3 9.45l-7.72 7.72c-.78.78-.78 2.05 0 2.83L4 21.41c.39.39.9.59 1.41.59.51 0 1.02-.2 1.41-.59l7.78-7.78 2.81-2.81c.8-.78.8-2.07 0-2.86zM5.41 20L4 18.59l7.72-7.72 1.47 1.35L5.41 20z\"/>\n",
              "  </svg>\n",
              "      </button>\n",
              "      \n",
              "  <style>\n",
              "    .colab-df-container {\n",
              "      display:flex;\n",
              "      flex-wrap:wrap;\n",
              "      gap: 12px;\n",
              "    }\n",
              "\n",
              "    .colab-df-convert {\n",
              "      background-color: #E8F0FE;\n",
              "      border: none;\n",
              "      border-radius: 50%;\n",
              "      cursor: pointer;\n",
              "      display: none;\n",
              "      fill: #1967D2;\n",
              "      height: 32px;\n",
              "      padding: 0 0 0 0;\n",
              "      width: 32px;\n",
              "    }\n",
              "\n",
              "    .colab-df-convert:hover {\n",
              "      background-color: #E2EBFA;\n",
              "      box-shadow: 0px 1px 2px rgba(60, 64, 67, 0.3), 0px 1px 3px 1px rgba(60, 64, 67, 0.15);\n",
              "      fill: #174EA6;\n",
              "    }\n",
              "\n",
              "    [theme=dark] .colab-df-convert {\n",
              "      background-color: #3B4455;\n",
              "      fill: #D2E3FC;\n",
              "    }\n",
              "\n",
              "    [theme=dark] .colab-df-convert:hover {\n",
              "      background-color: #434B5C;\n",
              "      box-shadow: 0px 1px 3px 1px rgba(0, 0, 0, 0.15);\n",
              "      filter: drop-shadow(0px 1px 2px rgba(0, 0, 0, 0.3));\n",
              "      fill: #FFFFFF;\n",
              "    }\n",
              "  </style>\n",
              "\n",
              "      <script>\n",
              "        const buttonEl =\n",
              "          document.querySelector('#df-1d48ae5e-fbeb-40b9-be2d-41b8fa26884f button.colab-df-convert');\n",
              "        buttonEl.style.display =\n",
              "          google.colab.kernel.accessAllowed ? 'block' : 'none';\n",
              "\n",
              "        async function convertToInteractive(key) {\n",
              "          const element = document.querySelector('#df-1d48ae5e-fbeb-40b9-be2d-41b8fa26884f');\n",
              "          const dataTable =\n",
              "            await google.colab.kernel.invokeFunction('convertToInteractive',\n",
              "                                                     [key], {});\n",
              "          if (!dataTable) return;\n",
              "\n",
              "          const docLinkHtml = 'Like what you see? Visit the ' +\n",
              "            '<a target=\"_blank\" href=https://colab.research.google.com/notebooks/data_table.ipynb>data table notebook</a>'\n",
              "            + ' to learn more about interactive tables.';\n",
              "          element.innerHTML = '';\n",
              "          dataTable['output_type'] = 'display_data';\n",
              "          await google.colab.output.renderOutput(dataTable, element);\n",
              "          const docLink = document.createElement('div');\n",
              "          docLink.innerHTML = docLinkHtml;\n",
              "          element.appendChild(docLink);\n",
              "        }\n",
              "      </script>\n",
              "    </div>\n",
              "  </div>\n",
              "  "
            ]
          },
          "metadata": {},
          "execution_count": 16
        }
      ]
    },
    {
      "cell_type": "code",
      "source": [],
      "metadata": {
        "id": "WiiV5srLeiHv"
      },
      "execution_count": null,
      "outputs": []
    },
    {
      "cell_type": "markdown",
      "metadata": {
        "id": "p-d6YJJJcLQX"
      },
      "source": [
        "# Exportando dados para arquivos\n",
        "\n",
        "Agora que ja temos todos os arquivos do diretório, vamos exporta-los apenas para um arquivo único.\n"
      ]
    },
    {
      "cell_type": "code",
      "execution_count": 12,
      "metadata": {
        "id": "VJFjkN37cLQX"
      },
      "outputs": [],
      "source": [
        "df_pesquisa.to_csv(DIRETORIO + 'pesquisa_completa.csv', sep = ';', encoding='latin-1', index=False)"
      ]
    },
    {
      "cell_type": "markdown",
      "metadata": {
        "id": "putnMwW8cLQY"
      },
      "source": [
        "Agora temos os dados das vendas em um único arquivo. Abaixo segue a prévia do arquivo exportado.\n",
        "\n",
        "![image.png](attachment:c3d5cd8c-11c8-46da-94c3-0211cae07ff3.png)"
      ]
    }
  ],
  "metadata": {
    "kernelspec": {
      "display_name": "Python 3 (ipykernel)",
      "language": "python",
      "name": "python3"
    },
    "language_info": {
      "codemirror_mode": {
        "name": "ipython",
        "version": 3
      },
      "file_extension": ".py",
      "mimetype": "text/x-python",
      "name": "python",
      "nbconvert_exporter": "python",
      "pygments_lexer": "ipython3",
      "version": "3.9.0"
    },
    "colab": {
      "provenance": [],
      "collapsed_sections": []
    }
  },
  "nbformat": 4,
  "nbformat_minor": 0
}